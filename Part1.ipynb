{
 "cells": [
  {
   "cell_type": "markdown",
   "id": "08f186b8",
   "metadata": {},
   "source": [
    "1.2 Modeling a Fishing scenario"
   ]
  },
  {
   "cell_type": "code",
   "execution_count": null,
   "id": "a395175e",
   "metadata": {
    "vscode": {
     "languageId": "plaintext"
    }
   },
   "outputs": [],
   "source": []
  }
 ],
 "metadata": {
  "language_info": {
   "name": "python"
  }
 },
 "nbformat": 4,
 "nbformat_minor": 5
}
